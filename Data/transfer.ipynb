version https://git-lfs.github.com/spec/v1
oid sha256:de5d32b78201c1fc34b03b47b170dd0dc434c17ff56be98f2016b0b1ab466a45
size 2441
